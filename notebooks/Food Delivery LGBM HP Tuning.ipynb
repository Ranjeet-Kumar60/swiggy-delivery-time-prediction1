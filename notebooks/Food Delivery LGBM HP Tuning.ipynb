{
 "cells": [
  {
   "cell_type": "code",
   "execution_count": null,
   "metadata": {
    "executionInfo": {
     "elapsed": 3179,
     "status": "ok",
     "timestamp": 1732873502993,
     "user": {
      "displayName": "Himanshu Arora",
      "userId": "03026800847751892488"
     },
     "user_tz": -330
    },
    "id": "Kje27pyKIlRO"
   },
   "outputs": [],
   "source": [
    "import numpy as np\n",
    "import pandas as pd\n",
    "import data_clean_utils\n",
    "from sklearn.pipeline import Pipeline\n",
    "from sklearn.compose import ColumnTransformer\n",
    "from sklearn.impute import SimpleImputer, KNNImputer, MissingIndicator\n",
    "from sklearn.preprocessing import OneHotEncoder, StandardScaler, LabelEncoder, MinMaxScaler, PowerTransformer, OrdinalEncoder\n",
    "from sklearn.model_selection import train_test_split\n",
    "import joblib"
   ]
  },
  {
   "cell_type": "code",
   "execution_count": null,
   "metadata": {
    "colab": {
     "base_uri": "https://localhost:8080/",
     "height": 66
    },
    "executionInfo": {
     "elapsed": 854,
     "status": "ok",
     "timestamp": 1732873512888,
     "user": {
      "displayName": "Himanshu Arora",
      "userId": "03026800847751892488"
     },
     "user_tz": -330
    },
    "id": "RslgFwABsa6k",
    "outputId": "19c3a2b5-6f26-4015-b1b6-8612d5dd86e0"
   },
   "outputs": [],
   "source": [
    "import dagshub\n",
    "dagshub.init(repo_owner='Ranjeet-Kumar60', repo_name='swiggy-delivery-time-prediction1', mlflow=True)"
   ]
  },
  {
   "cell_type": "code",
   "execution_count": null,
   "metadata": {
    "executionInfo": {
     "elapsed": 1786,
     "status": "ok",
     "timestamp": 1732873514669,
     "user": {
      "displayName": "Himanshu Arora",
      "userId": "03026800847751892488"
     },
     "user_tz": -330
    },
    "id": "Z_BcwFkgsyht"
   },
   "outputs": [],
   "source": [
    "import mlflow"
   ]
  },
  {
   "cell_type": "code",
   "execution_count": null,
   "metadata": {
    "executionInfo": {
     "elapsed": 45,
     "status": "ok",
     "timestamp": 1732873514671,
     "user": {
      "displayName": "Himanshu Arora",
      "userId": "03026800847751892488"
     },
     "user_tz": -330
    },
    "id": "jB813z9Zsu3S"
   },
   "outputs": [],
   "source": [
    "# set the tracking server\n",
    "\n",
    "mlflow.set_tracking_uri(\"https://dagshub.com/Ranjeet-Kumar60/swiggy-delivery-time-prediction1.mlflow\")"
   ]
  },
  {
   "cell_type": "code",
   "execution_count": null,
   "metadata": {
    "colab": {
     "base_uri": "https://localhost:8080/"
    },
    "executionInfo": {
     "elapsed": 41,
     "status": "ok",
     "timestamp": 1732873514672,
     "user": {
      "displayName": "Himanshu Arora",
      "userId": "03026800847751892488"
     },
     "user_tz": -330
    },
    "id": "kGIckb5ws2jb",
    "outputId": "f11cd0d3-ea9c-4ff0-8f20-4e563812bf9c"
   },
   "outputs": [],
   "source": [
    "# mlflow experiment\n",
    "\n",
    "mlflow.set_experiment(\"Exp 4 - LGBM Hyperparameters Tuning\")"
   ]
  },
  {
   "cell_type": "code",
   "execution_count": null,
   "metadata": {
    "executionInfo": {
     "elapsed": 13,
     "status": "ok",
     "timestamp": 1732873514672,
     "user": {
      "displayName": "Himanshu Arora",
      "userId": "03026800847751892488"
     },
     "user_tz": -330
    },
    "id": "r7eob7mfjxgl"
   },
   "outputs": [],
   "source": [
    "from sklearn import set_config\n",
    "\n",
    "set_config(transform_output=\"pandas\")"
   ]
  },
  {
   "cell_type": "markdown",
   "metadata": {
    "id": "1vFGURsDVtnH"
   },
   "source": [
    "# Load the Data"
   ]
  },
  {
   "cell_type": "code",
   "execution_count": null,
   "metadata": {
    "colab": {
     "base_uri": "https://localhost:8080/",
     "height": 461
    },
    "executionInfo": {
     "elapsed": 939,
     "status": "ok",
     "timestamp": 1732873515604,
     "user": {
      "displayName": "Himanshu Arora",
      "userId": "03026800847751892488"
     },
     "user_tz": -330
    },
    "id": "BVMYEJ2OYjRW",
    "outputId": "4f126c7d-b05f-43f0-af56-feea30588db2"
   },
   "outputs": [],
   "source": [
    "df = pd.read_csv(\"../data/raw/swiggy.csv\")\n",
    "df"
   ]
  },
  {
   "cell_type": "markdown",
   "metadata": {
    "id": "OQoORRdSYoWU"
   },
   "source": [
    "# Clean Data"
   ]
  },
  {
   "cell_type": "code",
   "execution_count": null,
   "metadata": {
    "executionInfo": {
     "elapsed": 4812,
     "status": "ok",
     "timestamp": 1732873520385,
     "user": {
      "displayName": "Himanshu Arora",
      "userId": "03026800847751892488"
     },
     "user_tz": -330
    },
    "id": "YpqxpFOJYqgs"
   },
   "outputs": [],
   "source": [
    "swiggy_cleaned=data_clean_utils.perform_data_cleaning(df)"
   ]
  },
  {
   "cell_type": "code",
   "execution_count": null,
   "metadata": {
    "colab": {
     "base_uri": "https://localhost:8080/",
     "height": 443
    },
    "executionInfo": {
     "elapsed": 995,
     "status": "ok",
     "timestamp": 1732873521376,
     "user": {
      "displayName": "Himanshu Arora",
      "userId": "03026800847751892488"
     },
     "user_tz": -330
    },
    "id": "I0fKq6d3Y2W2",
    "outputId": "c715969e-10e4-4406-95ea-0cae0cfba0f9"
   },
   "outputs": [],
   "source": [
    "swiggy_cleaned"
   ]
  },
  {
   "cell_type": "code",
   "execution_count": null,
   "metadata": {
    "colab": {
     "base_uri": "https://localhost:8080/"
    },
    "executionInfo": {
     "elapsed": 7,
     "status": "ok",
     "timestamp": 1732873521376,
     "user": {
      "displayName": "Himanshu Arora",
      "userId": "03026800847751892488"
     },
     "user_tz": -330
    },
    "id": "06VhmH7Lb4xz",
    "outputId": "7873885c-4db2-413b-98c8-cb0ce400b201"
   },
   "outputs": [],
   "source": [
    "swiggy_cleaned.columns"
   ]
  },
  {
   "cell_type": "code",
   "execution_count": null,
   "metadata": {
    "colab": {
     "base_uri": "https://localhost:8080/",
     "height": 443
    },
    "executionInfo": {
     "elapsed": 439,
     "status": "ok",
     "timestamp": 1732873521813,
     "user": {
      "displayName": "Himanshu Arora",
      "userId": "03026800847751892488"
     },
     "user_tz": -330
    },
    "id": "R-UYeFPobyeh",
    "outputId": "a8c59894-2da9-42a4-ad18-9cebd221853c"
   },
   "outputs": [],
   "source": [
    "# drop columns not required for model input\n",
    "\n",
    "columns_to_drop =  ['rider_id',\n",
    "                    'restaurant_latitude',\n",
    "                    'restaurant_longitude',\n",
    "                    'delivery_latitude',\n",
    "                    'delivery_longitude',\n",
    "                    'order_date',\n",
    "                    \"order_time_hour\",\n",
    "                    \"order_day\",\n",
    "                    \"city_name\",\n",
    "                    \"order_day_of_week\",\n",
    "                    \"order_month\"]\n",
    "\n",
    "swiggy_cleaned.drop(columns=columns_to_drop, inplace=True)\n",
    "\n",
    "swiggy_cleaned"
   ]
  },
  {
   "cell_type": "code",
   "execution_count": null,
   "metadata": {
    "colab": {
     "base_uri": "https://localhost:8080/",
     "height": 585
    },
    "executionInfo": {
     "elapsed": 528,
     "status": "ok",
     "timestamp": 1732873522325,
     "user": {
      "displayName": "Himanshu Arora",
      "userId": "03026800847751892488"
     },
     "user_tz": -330
    },
    "id": "IiOq4IO6cX4q",
    "outputId": "e27846c3-4209-483a-c898-6c861a025cee"
   },
   "outputs": [],
   "source": [
    "# check for missing values\n",
    "\n",
    "swiggy_cleaned.isna().sum()"
   ]
  },
  {
   "cell_type": "code",
   "execution_count": null,
   "metadata": {
    "colab": {
     "base_uri": "https://localhost:8080/"
    },
    "executionInfo": {
     "elapsed": 8,
     "status": "ok",
     "timestamp": 1732873522326,
     "user": {
      "displayName": "Himanshu Arora",
      "userId": "03026800847751892488"
     },
     "user_tz": -330
    },
    "id": "iHMDE9Mdcxno",
    "outputId": "cad9c1db-1d39-4ba0-a641-89d4f146b726"
   },
   "outputs": [],
   "source": [
    "# check for duplicates\n",
    "\n",
    "swiggy_cleaned.duplicated().sum()"
   ]
  },
  {
   "cell_type": "code",
   "execution_count": null,
   "metadata": {
    "colab": {
     "base_uri": "https://localhost:8080/",
     "height": 572
    },
    "executionInfo": {
     "elapsed": 3508,
     "status": "ok",
     "timestamp": 1732873525829,
     "user": {
      "displayName": "Himanshu Arora",
      "userId": "03026800847751892488"
     },
     "user_tz": -330
    },
    "id": "Q7bSLKIEc5-E",
    "outputId": "36ef7c04-1cb6-4eac-8325-88ff76994dd1"
   },
   "outputs": [],
   "source": [
    "import missingno as msno\n",
    "\n",
    "msno.matrix(swiggy_cleaned)"
   ]
  },
  {
   "cell_type": "code",
   "execution_count": null,
   "metadata": {
    "colab": {
     "base_uri": "https://localhost:8080/"
    },
    "executionInfo": {
     "elapsed": 45,
     "status": "ok",
     "timestamp": 1732873525830,
     "user": {
      "displayName": "Himanshu Arora",
      "userId": "03026800847751892488"
     },
     "user_tz": -330
    },
    "id": "eAWElUOCi4Zk",
    "outputId": "383e88c3-d824-42e6-9128-c659d5461a83"
   },
   "outputs": [],
   "source": [
    "# columns that have missing values\n",
    "\n",
    "missing_cols = (\n",
    "                    swiggy_cleaned\n",
    "                    .isna()\n",
    "                    .any(axis=0)\n",
    "                    .loc[lambda x: x]\n",
    "                    .index\n",
    "                )\n",
    "\n",
    "missing_cols"
   ]
  },
  {
   "cell_type": "markdown",
   "metadata": {
    "id": "A5BZQeJgkJAz"
   },
   "source": [
    "# Drop Missing values"
   ]
  },
  {
   "cell_type": "code",
   "execution_count": null,
   "metadata": {
    "executionInfo": {
     "elapsed": 30,
     "status": "ok",
     "timestamp": 1732873525831,
     "user": {
      "displayName": "Himanshu Arora",
      "userId": "03026800847751892488"
     },
     "user_tz": -330
    },
    "id": "lo0g_AwrRelP"
   },
   "outputs": [],
   "source": [
    "temp_df = swiggy_cleaned.copy().dropna()"
   ]
  },
  {
   "cell_type": "code",
   "execution_count": null,
   "metadata": {
    "colab": {
     "base_uri": "https://localhost:8080/",
     "height": 443
    },
    "executionInfo": {
     "elapsed": 30,
     "status": "ok",
     "timestamp": 1732873525832,
     "user": {
      "displayName": "Himanshu Arora",
      "userId": "03026800847751892488"
     },
     "user_tz": -330
    },
    "id": "usqGURjWRelQ",
    "outputId": "afff7f6b-64a5-448f-e87a-be5fe1502e0b"
   },
   "outputs": [],
   "source": [
    "# split into X and y\n",
    "\n",
    "X = temp_df.drop(columns='time_taken')\n",
    "y = temp_df['time_taken']\n",
    "\n",
    "X"
   ]
  },
  {
   "cell_type": "code",
   "execution_count": null,
   "metadata": {
    "executionInfo": {
     "elapsed": 28,
     "status": "ok",
     "timestamp": 1732873525832,
     "user": {
      "displayName": "Himanshu Arora",
      "userId": "03026800847751892488"
     },
     "user_tz": -330
    },
    "id": "UcJAkX63RelS"
   },
   "outputs": [],
   "source": [
    "# train test split\n",
    "\n",
    "X_train, X_test, y_train, y_test = train_test_split(X,y,test_size=0.2,random_state=42)"
   ]
  },
  {
   "cell_type": "code",
   "execution_count": null,
   "metadata": {
    "colab": {
     "base_uri": "https://localhost:8080/"
    },
    "executionInfo": {
     "elapsed": 35,
     "status": "ok",
     "timestamp": 1732873525841,
     "user": {
      "displayName": "Himanshu Arora",
      "userId": "03026800847751892488"
     },
     "user_tz": -330
    },
    "id": "uL9NQizbRelT",
    "outputId": "05a7a71a-b110-4dcc-d5a1-3aa722dd7e53"
   },
   "outputs": [],
   "source": [
    "print(\"The size of train data is\",X_train.shape)\n",
    "print(\"The shape of test data is\",X_test.shape)"
   ]
  },
  {
   "cell_type": "code",
   "execution_count": null,
   "metadata": {
    "colab": {
     "base_uri": "https://localhost:8080/",
     "height": 554
    },
    "executionInfo": {
     "elapsed": 632,
     "status": "ok",
     "timestamp": 1732873526441,
     "user": {
      "displayName": "Himanshu Arora",
      "userId": "03026800847751892488"
     },
     "user_tz": -330
    },
    "id": "DJzsaTRmR7XJ",
    "outputId": "bb9d1bfb-fd9b-4206-a494-749993986228"
   },
   "outputs": [],
   "source": [
    "# missing values in train data\n",
    "\n",
    "X_train.isna().sum()"
   ]
  },
  {
   "cell_type": "code",
   "execution_count": null,
   "metadata": {
    "executionInfo": {
     "elapsed": 67,
     "status": "ok",
     "timestamp": 1732873526448,
     "user": {
      "displayName": "Himanshu Arora",
      "userId": "03026800847751892488"
     },
     "user_tz": -330
    },
    "id": "6FSRQQo_RelT"
   },
   "outputs": [],
   "source": [
    "# transform target column\n",
    "\n",
    "pt = PowerTransformer()\n",
    "\n",
    "y_train_pt = pt.fit_transform(y_train.values.reshape(-1,1))\n",
    "y_test_pt = pt.transform(y_test.values.reshape(-1,1))"
   ]
  },
  {
   "cell_type": "code",
   "execution_count": null,
   "metadata": {
    "colab": {
     "base_uri": "https://localhost:8080/"
    },
    "executionInfo": {
     "elapsed": 66,
     "status": "ok",
     "timestamp": 1732873526448,
     "user": {
      "displayName": "Himanshu Arora",
      "userId": "03026800847751892488"
     },
     "user_tz": -330
    },
    "id": "TWPzIQCUj_74",
    "outputId": "c8ac86e8-4032-44fe-e230-af584eb1f0f6"
   },
   "outputs": [],
   "source": [
    "missing_cols"
   ]
  },
  {
   "cell_type": "code",
   "execution_count": null,
   "metadata": {
    "colab": {
     "base_uri": "https://localhost:8080/"
    },
    "executionInfo": {
     "elapsed": 63,
     "status": "ok",
     "timestamp": 1732873526448,
     "user": {
      "displayName": "Himanshu Arora",
      "userId": "03026800847751892488"
     },
     "user_tz": -330
    },
    "id": "SaXhVBXJu6mO",
    "outputId": "7acd934b-2c83-4df3-b6e5-0382f3d729cc"
   },
   "outputs": [],
   "source": [
    "# percentage of rows in data having missing values\n",
    "\n",
    "(\n",
    "    X_train\n",
    "    .isna()\n",
    "    .any(axis=1)\n",
    "    .mean()\n",
    "    .round(2) * 100\n",
    ")\n"
   ]
  },
  {
   "cell_type": "markdown",
   "metadata": {
    "id": "QgGmD3bUeZNu"
   },
   "source": [
    "# Pre-Processing Pipeline"
   ]
  },
  {
   "cell_type": "code",
   "execution_count": null,
   "metadata": {
    "executionInfo": {
     "elapsed": 89,
     "status": "ok",
     "timestamp": 1732873526486,
     "user": {
      "displayName": "Himanshu Arora",
      "userId": "03026800847751892488"
     },
     "user_tz": -330
    },
    "id": "CxotCZQykGzV"
   },
   "outputs": [],
   "source": [
    "# do basic preprocessing\n",
    "\n",
    "num_cols = [\"age\",\"ratings\",\"pickup_time_minutes\",\"distance\"]\n",
    "\n",
    "nominal_cat_cols = ['weather','type_of_order',\n",
    "                    'type_of_vehicle',\"festival\",\n",
    "                    \"city_type\",\n",
    "                    \"is_weekend\",\n",
    "                    \"order_time_of_day\"]\n",
    "\n",
    "ordinal_cat_cols = [\"traffic\",\"distance_type\"]"
   ]
  },
  {
   "cell_type": "code",
   "execution_count": null,
   "metadata": {
    "executionInfo": {
     "elapsed": 89,
     "status": "ok",
     "timestamp": 1732873526487,
     "user": {
      "displayName": "Himanshu Arora",
      "userId": "03026800847751892488"
     },
     "user_tz": -330
    },
    "id": "1vXEw79MkGzW"
   },
   "outputs": [],
   "source": [
    "# generate order for ordinal encoding\n",
    "\n",
    "traffic_order = [\"low\",\"medium\",\"high\",\"jam\"]\n",
    "\n",
    "distance_type_order = [\"short\",\"medium\",\"long\",\"very_long\"]"
   ]
  },
  {
   "cell_type": "code",
   "execution_count": null,
   "metadata": {
    "colab": {
     "base_uri": "https://localhost:8080/"
    },
    "executionInfo": {
     "elapsed": 90,
     "status": "ok",
     "timestamp": 1732873526488,
     "user": {
      "displayName": "Himanshu Arora",
      "userId": "03026800847751892488"
     },
     "user_tz": -330
    },
    "id": "Zdqxf1Kinfde",
    "outputId": "3686cc05-ecb5-4add-f9ce-7cccae7116d8"
   },
   "outputs": [],
   "source": [
    "# unique categories the ordinal columns\n",
    "\n",
    "for col in ordinal_cat_cols:\n",
    "    print(col,X_train[col].unique())"
   ]
  },
  {
   "cell_type": "code",
   "execution_count": null,
   "metadata": {
    "colab": {
     "base_uri": "https://localhost:8080/",
     "height": 135
    },
    "executionInfo": {
     "elapsed": 87,
     "status": "ok",
     "timestamp": 1732873526488,
     "user": {
      "displayName": "Himanshu Arora",
      "userId": "03026800847751892488"
     },
     "user_tz": -330
    },
    "id": "IkSOLqvBkGzW",
    "outputId": "93473346-431d-4c2f-8f38-c038fc7aacf9"
   },
   "outputs": [],
   "source": [
    "# build a preprocessor\n",
    "\n",
    "preprocessor = ColumnTransformer(transformers=[\n",
    "    (\"scale\", MinMaxScaler(), num_cols),\n",
    "    (\"nominal_encode\", OneHotEncoder(drop=\"first\",handle_unknown=\"ignore\",\n",
    "                                     sparse_output=False), nominal_cat_cols),\n",
    "    (\"ordinal_encode\", OrdinalEncoder(categories=[traffic_order,distance_type_order],\n",
    "                                      encoded_missing_value=-999,\n",
    "                                      handle_unknown=\"use_encoded_value\",\n",
    "                                      unknown_value=-1), ordinal_cat_cols)\n",
    "],remainder=\"passthrough\",n_jobs=-1,force_int_remainder_cols=False,verbose_feature_names_out=False)\n",
    "\n",
    "\n",
    "preprocessor"
   ]
  },
  {
   "cell_type": "code",
   "execution_count": null,
   "metadata": {
    "colab": {
     "base_uri": "https://localhost:8080/",
     "height": 180
    },
    "executionInfo": {
     "elapsed": 87,
     "status": "ok",
     "timestamp": 1732873526490,
     "user": {
      "displayName": "Himanshu Arora",
      "userId": "03026800847751892488"
     },
     "user_tz": -330
    },
    "id": "n7uZVB6seYc_",
    "outputId": "9a65666b-752a-473c-cf92-dc52361825a3"
   },
   "outputs": [],
   "source": [
    "# build the pipeline\n",
    "\n",
    "processing_pipeline = Pipeline(steps=[\n",
    "                                (\"preprocess\",preprocessor)\n",
    "                            ])\n",
    "\n",
    "processing_pipeline"
   ]
  },
  {
   "cell_type": "code",
   "execution_count": null,
   "metadata": {
    "executionInfo": {
     "elapsed": 4374,
     "status": "ok",
     "timestamp": 1732873530779,
     "user": {
      "displayName": "Himanshu Arora",
      "userId": "03026800847751892488"
     },
     "user_tz": -330
    },
    "id": "tVRPCAe3NXfL"
   },
   "outputs": [],
   "source": [
    "# do data preprocessing\n",
    "\n",
    "X_train_trans = processing_pipeline.fit_transform(X_train)\n",
    "\n",
    "X_test_trans = processing_pipeline.transform(X_test)"
   ]
  },
  {
   "cell_type": "code",
   "execution_count": null,
   "metadata": {
    "colab": {
     "base_uri": "https://localhost:8080/",
     "height": 461
    },
    "executionInfo": {
     "elapsed": 10,
     "status": "ok",
     "timestamp": 1732873530780,
     "user": {
      "displayName": "Himanshu Arora",
      "userId": "03026800847751892488"
     },
     "user_tz": -330
    },
    "id": "l2-_1Nsa6aVO",
    "outputId": "af155db8-93bf-4ad1-c0cb-3b8e48beb605"
   },
   "outputs": [],
   "source": [
    "X_train_trans"
   ]
  },
  {
   "cell_type": "code",
   "execution_count": null,
   "metadata": {
    "colab": {
     "base_uri": "https://localhost:8080/"
    },
    "executionInfo": {
     "elapsed": 687,
     "status": "ok",
     "timestamp": 1732873541311,
     "user": {
      "displayName": "Himanshu Arora",
      "userId": "03026800847751892488"
     },
     "user_tz": -330
    },
    "id": "vvAmK7Wfq8rV",
    "outputId": "f6ca85c4-d64b-4e5f-92e5-01b931519d7d"
   },
   "outputs": [],
   "source": [
    "from lightgbm import LGBMRegressor\n",
    "import optuna"
   ]
  },
  {
   "cell_type": "code",
   "execution_count": null,
   "metadata": {
    "executionInfo": {
     "elapsed": 9,
     "status": "ok",
     "timestamp": 1732873541312,
     "user": {
      "displayName": "Himanshu Arora",
      "userId": "03026800847751892488"
     },
     "user_tz": -330
    },
    "id": "7-i3qhXbteRD"
   },
   "outputs": [],
   "source": [
    "from sklearn.metrics import r2_score, mean_absolute_error\n",
    "from sklearn.model_selection import cross_val_score\n",
    "from sklearn.compose import TransformedTargetRegressor"
   ]
  },
  {
   "cell_type": "code",
   "execution_count": null,
   "metadata": {
    "executionInfo": {
     "elapsed": 8,
     "status": "ok",
     "timestamp": 1732873541312,
     "user": {
      "displayName": "Himanshu Arora",
      "userId": "03026800847751892488"
     },
     "user_tz": -330
    },
    "id": "RvZDCzGZrGQK"
   },
   "outputs": [],
   "source": [
    "def objective(trial):\n",
    "    with mlflow.start_run(nested=True):\n",
    "        params = {\n",
    "            \"n_estimators\": trial.suggest_int(\"n_estimators\",10,200),\n",
    "            \"max_depth\": trial.suggest_int(\"max_depth\",1,40),\n",
    "            \"learning_rate\": trial.suggest_float(\"learning_rate\",0.1,0.8),\n",
    "            \"subsample\": trial.suggest_float(\"subsample\",0.5,1),\n",
    "            \"min_child_weight\": trial.suggest_int(\"min_child_weight\",5,20),\n",
    "            \"min_split_gain\": trial.suggest_float(\"min_split_gain\",0,10),\n",
    "            \"reg_lambda\": trial.suggest_float(\"reg_lambda\",0,100),\n",
    "            \"random_state\": 42,\n",
    "            \"n_jobs\": -1,\n",
    "        }\n",
    "\n",
    "        # log model parameters\n",
    "        mlflow.log_params(params)\n",
    "\n",
    "        xgb_reg = LGBMRegressor(**params)\n",
    "        model = TransformedTargetRegressor(regressor=xgb_reg,transformer=pt)\n",
    "\n",
    "        # train the model\n",
    "        model.fit(X_train_trans,y_train)\n",
    "\n",
    "        # get the predictions\n",
    "        y_pred_train = model.predict(X_train_trans)\n",
    "        y_pred_test = model.predict(X_test_trans)\n",
    "\n",
    "\n",
    "        # perform cross validation\n",
    "        cv_score = cross_val_score(model,\n",
    "                                X_train_trans,\n",
    "                                y_train,\n",
    "                                cv=5,\n",
    "                                scoring=\"neg_mean_absolute_error\",\n",
    "                                n_jobs=-1)\n",
    "\n",
    "        # mean score\n",
    "        mean_score = -(cv_score.mean())\n",
    "        # log avg cross val error\n",
    "        mlflow.log_metric(\"cross_val_error\",mean_score)\n",
    "\n",
    "        return mean_score"
   ]
  },
  {
   "cell_type": "code",
   "execution_count": null,
   "metadata": {
    "colab": {
     "base_uri": "https://localhost:8080/",
     "height": 1000,
     "referenced_widgets": [
      "14627f1449e647f4a8459ae339341fdc",
      "b11d53c915b943769109b5434caff025",
      "6696e39c9ab34445be9ba6eb90c7c97c",
      "d226150fbddc4f6db9137b86aa7af126",
      "b07b24928c3547118da93ca8238f0e9c",
      "e004e7debe73442897d3998a69bc7733",
      "18c798948df24fa48ecc432febb1e17a",
      "fb48f714b7a046d9a082d2c481dbb0f8",
      "0978fc23aa244141a561e9d047cb4a6b",
      "95de1c008c9a4a22a265357f2ed35730",
      "00fb9cfc47754120bbd4f8baef0ab020"
     ]
    },
    "executionInfo": {
     "elapsed": 319728,
     "status": "ok",
     "timestamp": 1732873861600,
     "user": {
      "displayName": "Himanshu Arora",
      "userId": "03026800847751892488"
     },
     "user_tz": -330
    },
    "id": "yKs32EWWs42v",
    "outputId": "3d0e5e86-7588-4d01-b8e7-2f0f4e59a9f4"
   },
   "outputs": [],
   "source": [
    "# create optuna study\n",
    "study = optuna.create_study(direction=\"minimize\")\n",
    "\n",
    "with mlflow.start_run(run_name=\"best_model\"):\n",
    "    # optimize the objective function\n",
    "    study.optimize(objective, n_trials=50, n_jobs=-1, show_progress_bar=True)\n",
    "\n",
    "    # log the best parameters\n",
    "    mlflow.log_params(study.best_params)\n",
    "\n",
    "    # log the best score\n",
    "    mlflow.log_metric(\"best_score\", study.best_value)\n",
    "\n",
    "    # train the model on best parameters\n",
    "    best_lgbm = LGBMRegressor(**study.best_params)\n",
    "    best_lgbm.fit(X_train_trans, y_train_pt.values.ravel())\n",
    "\n",
    "    # get the predictions\n",
    "    y_pred_train = best_lgbm.predict(X_train_trans)\n",
    "    y_pred_test = best_lgbm.predict(X_test_trans)\n",
    "\n",
    "    # get the actual predictions values\n",
    "    y_pred_train_org = pt.inverse_transform(y_pred_train.reshape(-1, 1))\n",
    "    y_pred_test_org = pt.inverse_transform(y_pred_test.reshape(-1, 1))\n",
    "\n",
    "    # perform cross validation\n",
    "    model = TransformedTargetRegressor(regressor=best_lgbm,\n",
    "                                       transformer=pt)\n",
    "\n",
    "    scores = cross_val_score(model,\n",
    "                             X_train_trans,\n",
    "                             y_train,\n",
    "                             scoring=\"neg_mean_absolute_error\",\n",
    "                             cv=5, n_jobs=-1)\n",
    "\n",
    "    # log metrics\n",
    "    mlflow.log_metric(\"training_error\", mean_absolute_error(y_train, y_pred_train_org))\n",
    "    mlflow.log_metric(\"test_error\", mean_absolute_error(y_test, y_pred_test_org))\n",
    "    mlflow.log_metric(\"training_r2\", r2_score(y_train, y_pred_train_org))\n",
    "    mlflow.log_metric(\"test_r2\", r2_score(y_test, y_pred_test_org))\n",
    "    mlflow.log_metric(\"cross_val\", -scores.mean())\n",
    "\n",
    "    # ---- FIXED PART ----\n",
    "    # save model locally\n",
    "    model_path = \"best_lgbm.pkl\"\n",
    "    joblib.dump(best_lgbm, model_path)\n",
    "\n",
    "    # log as artifact (works with DagsHub MLflow)\n",
    "    mlflow.log_artifact(model_path, artifact_path=\"model\")"
   ]
  },
  {
   "cell_type": "code",
   "execution_count": null,
   "metadata": {
    "colab": {
     "base_uri": "https://localhost:8080/"
    },
    "executionInfo": {
     "elapsed": 667,
     "status": "ok",
     "timestamp": 1732873900732,
     "user": {
      "displayName": "Himanshu Arora",
      "userId": "03026800847751892488"
     },
     "user_tz": -330
    },
    "id": "HikKyacTVS51",
    "outputId": "a6fa9051-4149-44f3-9474-2243f238ddc6"
   },
   "outputs": [],
   "source": [
    "study.best_params"
   ]
  },
  {
   "cell_type": "code",
   "execution_count": null,
   "metadata": {
    "colab": {
     "base_uri": "https://localhost:8080/"
    },
    "executionInfo": {
     "elapsed": 638,
     "status": "ok",
     "timestamp": 1732873933034,
     "user": {
      "displayName": "Himanshu Arora",
      "userId": "03026800847751892488"
     },
     "user_tz": -330
    },
    "id": "clMfQZNVVV5J",
    "outputId": "116f9de6-195e-4b4a-8297-f21a4011d1a7"
   },
   "outputs": [],
   "source": [
    "study.best_value"
   ]
  },
  {
   "cell_type": "code",
   "execution_count": null,
   "metadata": {
    "colab": {
     "base_uri": "https://localhost:8080/",
     "height": 542
    },
    "executionInfo": {
     "elapsed": 718,
     "status": "ok",
     "timestamp": 1732873862980,
     "user": {
      "displayName": "Himanshu Arora",
      "userId": "03026800847751892488"
     },
     "user_tz": -330
    },
    "id": "uL7mOakfC77H",
    "outputId": "e96fe789-d41f-4394-98a7-025b78a6ac6d"
   },
   "outputs": [],
   "source": [
    "from optuna.visualization.matplotlib import plot_optimization_history\n",
    "\n",
    "plot_optimization_history(study)\n"
   ]
  }
 ],
 "metadata": {
  "colab": {
   "authorship_tag": "ABX9TyMsL+bArNqMSOXNuNidDvJE",
   "provenance": [
    {
     "file_id": "1M8R39bCnlLPkeXdaWwYMNDhscz6ggBCr",
     "timestamp": 1732816919042
    }
   ]
  },
  "kernelspec": {
   "display_name": "swiggy_prediction_env",
   "language": "python",
   "name": "python3"
  },
  "language_info": {
   "codemirror_mode": {
    "name": "ipython",
    "version": 3
   },
   "file_extension": ".py",
   "mimetype": "text/x-python",
   "name": "python",
   "nbconvert_exporter": "python",
   "pygments_lexer": "ipython3",
   "version": "3.10.18"
  },
  "widgets": {
   "application/vnd.jupyter.widget-state+json": {
    "00fb9cfc47754120bbd4f8baef0ab020": {
     "model_module": "@jupyter-widgets/controls",
     "model_module_version": "1.5.0",
     "model_name": "DescriptionStyleModel",
     "state": {
      "_model_module": "@jupyter-widgets/controls",
      "_model_module_version": "1.5.0",
      "_model_name": "DescriptionStyleModel",
      "_view_count": null,
      "_view_module": "@jupyter-widgets/base",
      "_view_module_version": "1.2.0",
      "_view_name": "StyleView",
      "description_width": ""
     }
    },
    "0978fc23aa244141a561e9d047cb4a6b": {
     "model_module": "@jupyter-widgets/controls",
     "model_module_version": "1.5.0",
     "model_name": "ProgressStyleModel",
     "state": {
      "_model_module": "@jupyter-widgets/controls",
      "_model_module_version": "1.5.0",
      "_model_name": "ProgressStyleModel",
      "_view_count": null,
      "_view_module": "@jupyter-widgets/base",
      "_view_module_version": "1.2.0",
      "_view_name": "StyleView",
      "bar_color": null,
      "description_width": ""
     }
    },
    "14627f1449e647f4a8459ae339341fdc": {
     "model_module": "@jupyter-widgets/controls",
     "model_module_version": "1.5.0",
     "model_name": "HBoxModel",
     "state": {
      "_dom_classes": [],
      "_model_module": "@jupyter-widgets/controls",
      "_model_module_version": "1.5.0",
      "_model_name": "HBoxModel",
      "_view_count": null,
      "_view_module": "@jupyter-widgets/controls",
      "_view_module_version": "1.5.0",
      "_view_name": "HBoxView",
      "box_style": "",
      "children": [
       "IPY_MODEL_b11d53c915b943769109b5434caff025",
       "IPY_MODEL_6696e39c9ab34445be9ba6eb90c7c97c",
       "IPY_MODEL_d226150fbddc4f6db9137b86aa7af126"
      ],
      "layout": "IPY_MODEL_b07b24928c3547118da93ca8238f0e9c"
     }
    },
    "18c798948df24fa48ecc432febb1e17a": {
     "model_module": "@jupyter-widgets/controls",
     "model_module_version": "1.5.0",
     "model_name": "DescriptionStyleModel",
     "state": {
      "_model_module": "@jupyter-widgets/controls",
      "_model_module_version": "1.5.0",
      "_model_name": "DescriptionStyleModel",
      "_view_count": null,
      "_view_module": "@jupyter-widgets/base",
      "_view_module_version": "1.2.0",
      "_view_name": "StyleView",
      "description_width": ""
     }
    },
    "6696e39c9ab34445be9ba6eb90c7c97c": {
     "model_module": "@jupyter-widgets/controls",
     "model_module_version": "1.5.0",
     "model_name": "FloatProgressModel",
     "state": {
      "_dom_classes": [],
      "_model_module": "@jupyter-widgets/controls",
      "_model_module_version": "1.5.0",
      "_model_name": "FloatProgressModel",
      "_view_count": null,
      "_view_module": "@jupyter-widgets/controls",
      "_view_module_version": "1.5.0",
      "_view_name": "ProgressView",
      "bar_style": "success",
      "description": "",
      "description_tooltip": null,
      "layout": "IPY_MODEL_fb48f714b7a046d9a082d2c481dbb0f8",
      "max": 50,
      "min": 0,
      "orientation": "horizontal",
      "style": "IPY_MODEL_0978fc23aa244141a561e9d047cb4a6b",
      "value": 50
     }
    },
    "95de1c008c9a4a22a265357f2ed35730": {
     "model_module": "@jupyter-widgets/base",
     "model_module_version": "1.2.0",
     "model_name": "LayoutModel",
     "state": {
      "_model_module": "@jupyter-widgets/base",
      "_model_module_version": "1.2.0",
      "_model_name": "LayoutModel",
      "_view_count": null,
      "_view_module": "@jupyter-widgets/base",
      "_view_module_version": "1.2.0",
      "_view_name": "LayoutView",
      "align_content": null,
      "align_items": null,
      "align_self": null,
      "border": null,
      "bottom": null,
      "display": null,
      "flex": null,
      "flex_flow": null,
      "grid_area": null,
      "grid_auto_columns": null,
      "grid_auto_flow": null,
      "grid_auto_rows": null,
      "grid_column": null,
      "grid_gap": null,
      "grid_row": null,
      "grid_template_areas": null,
      "grid_template_columns": null,
      "grid_template_rows": null,
      "height": null,
      "justify_content": null,
      "justify_items": null,
      "left": null,
      "margin": null,
      "max_height": null,
      "max_width": null,
      "min_height": null,
      "min_width": null,
      "object_fit": null,
      "object_position": null,
      "order": null,
      "overflow": null,
      "overflow_x": null,
      "overflow_y": null,
      "padding": null,
      "right": null,
      "top": null,
      "visibility": null,
      "width": null
     }
    },
    "b07b24928c3547118da93ca8238f0e9c": {
     "model_module": "@jupyter-widgets/base",
     "model_module_version": "1.2.0",
     "model_name": "LayoutModel",
     "state": {
      "_model_module": "@jupyter-widgets/base",
      "_model_module_version": "1.2.0",
      "_model_name": "LayoutModel",
      "_view_count": null,
      "_view_module": "@jupyter-widgets/base",
      "_view_module_version": "1.2.0",
      "_view_name": "LayoutView",
      "align_content": null,
      "align_items": null,
      "align_self": null,
      "border": null,
      "bottom": null,
      "display": null,
      "flex": null,
      "flex_flow": null,
      "grid_area": null,
      "grid_auto_columns": null,
      "grid_auto_flow": null,
      "grid_auto_rows": null,
      "grid_column": null,
      "grid_gap": null,
      "grid_row": null,
      "grid_template_areas": null,
      "grid_template_columns": null,
      "grid_template_rows": null,
      "height": null,
      "justify_content": null,
      "justify_items": null,
      "left": null,
      "margin": null,
      "max_height": null,
      "max_width": null,
      "min_height": null,
      "min_width": null,
      "object_fit": null,
      "object_position": null,
      "order": null,
      "overflow": null,
      "overflow_x": null,
      "overflow_y": null,
      "padding": null,
      "right": null,
      "top": null,
      "visibility": null,
      "width": null
     }
    },
    "b11d53c915b943769109b5434caff025": {
     "model_module": "@jupyter-widgets/controls",
     "model_module_version": "1.5.0",
     "model_name": "HTMLModel",
     "state": {
      "_dom_classes": [],
      "_model_module": "@jupyter-widgets/controls",
      "_model_module_version": "1.5.0",
      "_model_name": "HTMLModel",
      "_view_count": null,
      "_view_module": "@jupyter-widgets/controls",
      "_view_module_version": "1.5.0",
      "_view_name": "HTMLView",
      "description": "",
      "description_tooltip": null,
      "layout": "IPY_MODEL_e004e7debe73442897d3998a69bc7733",
      "placeholder": "​",
      "style": "IPY_MODEL_18c798948df24fa48ecc432febb1e17a",
      "value": "Best trial: 40. Best value: 3.14517: 100%"
     }
    },
    "d226150fbddc4f6db9137b86aa7af126": {
     "model_module": "@jupyter-widgets/controls",
     "model_module_version": "1.5.0",
     "model_name": "HTMLModel",
     "state": {
      "_dom_classes": [],
      "_model_module": "@jupyter-widgets/controls",
      "_model_module_version": "1.5.0",
      "_model_name": "HTMLModel",
      "_view_count": null,
      "_view_module": "@jupyter-widgets/controls",
      "_view_module_version": "1.5.0",
      "_view_name": "HTMLView",
      "description": "",
      "description_tooltip": null,
      "layout": "IPY_MODEL_95de1c008c9a4a22a265357f2ed35730",
      "placeholder": "​",
      "style": "IPY_MODEL_00fb9cfc47754120bbd4f8baef0ab020",
      "value": " 50/50 [05:03&lt;00:00,  7.24s/it]"
     }
    },
    "e004e7debe73442897d3998a69bc7733": {
     "model_module": "@jupyter-widgets/base",
     "model_module_version": "1.2.0",
     "model_name": "LayoutModel",
     "state": {
      "_model_module": "@jupyter-widgets/base",
      "_model_module_version": "1.2.0",
      "_model_name": "LayoutModel",
      "_view_count": null,
      "_view_module": "@jupyter-widgets/base",
      "_view_module_version": "1.2.0",
      "_view_name": "LayoutView",
      "align_content": null,
      "align_items": null,
      "align_self": null,
      "border": null,
      "bottom": null,
      "display": null,
      "flex": null,
      "flex_flow": null,
      "grid_area": null,
      "grid_auto_columns": null,
      "grid_auto_flow": null,
      "grid_auto_rows": null,
      "grid_column": null,
      "grid_gap": null,
      "grid_row": null,
      "grid_template_areas": null,
      "grid_template_columns": null,
      "grid_template_rows": null,
      "height": null,
      "justify_content": null,
      "justify_items": null,
      "left": null,
      "margin": null,
      "max_height": null,
      "max_width": null,
      "min_height": null,
      "min_width": null,
      "object_fit": null,
      "object_position": null,
      "order": null,
      "overflow": null,
      "overflow_x": null,
      "overflow_y": null,
      "padding": null,
      "right": null,
      "top": null,
      "visibility": null,
      "width": null
     }
    },
    "fb48f714b7a046d9a082d2c481dbb0f8": {
     "model_module": "@jupyter-widgets/base",
     "model_module_version": "1.2.0",
     "model_name": "LayoutModel",
     "state": {
      "_model_module": "@jupyter-widgets/base",
      "_model_module_version": "1.2.0",
      "_model_name": "LayoutModel",
      "_view_count": null,
      "_view_module": "@jupyter-widgets/base",
      "_view_module_version": "1.2.0",
      "_view_name": "LayoutView",
      "align_content": null,
      "align_items": null,
      "align_self": null,
      "border": null,
      "bottom": null,
      "display": null,
      "flex": null,
      "flex_flow": null,
      "grid_area": null,
      "grid_auto_columns": null,
      "grid_auto_flow": null,
      "grid_auto_rows": null,
      "grid_column": null,
      "grid_gap": null,
      "grid_row": null,
      "grid_template_areas": null,
      "grid_template_columns": null,
      "grid_template_rows": null,
      "height": null,
      "justify_content": null,
      "justify_items": null,
      "left": null,
      "margin": null,
      "max_height": null,
      "max_width": null,
      "min_height": null,
      "min_width": null,
      "object_fit": null,
      "object_position": null,
      "order": null,
      "overflow": null,
      "overflow_x": null,
      "overflow_y": null,
      "padding": null,
      "right": null,
      "top": null,
      "visibility": null,
      "width": null
     }
    }
   }
  }
 },
 "nbformat": 4,
 "nbformat_minor": 0
}
